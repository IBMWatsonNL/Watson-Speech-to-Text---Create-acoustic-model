{
 "cells": [
  {
   "cell_type": "markdown",
   "metadata": {},
   "source": [
    "# Getting started with Speech to Text\n",
    "\n",
    "The IBM® Speech to Text service provides APIs that use IBM's speech-recognition capabilities to produce transcripts of spoken audio. The service can transcribe speech from various languages and audio formats. In addition to basic transcription, the service can produce detailed information about many different aspects of the audio. For most languages, the service supports two sampling rates, broadband and narrowband. It returns all JSON response content in the UTF-8 character set.  \n",
    "\n",
    "This notebook explains how to develop a custom-model for your chosen language\n",
    "\n",
    "IBM documentation for Watson Speech to Text https://cloud.ibm.com/docs/speech-to-text?topic=speech-to-text-gettingStarted\n",
    "\n",
    "IBM API documentation for Watson Speech to Text https://cloud.ibm.com/apidocs/speech-to-text?code=python#introduction\n"
   ]
  },
  {
   "cell_type": "markdown",
   "metadata": {},
   "source": [
    "## Before you begin\n",
    "\n",
    "a) Create an instance of the service:\n",
    "<br>\n",
    "b) Go to the Speech to Text page in the IBM Cloud Catalog. select Watson Speech to Text (STT)\n",
    "<br>\n",
    "c) Select your Region + Plan and Click Create.\n",
    "<br>\n",
    "d) Copy the credentials to authenticate to your service instance:\n",
    "<br>\n",
    "e) From the IBM Cloud Resource list, click on your Speech to Text service instance to go to the Speech to Text service dashboard page.\n"
   ]
  },
  {
   "cell_type": "markdown",
   "metadata": {},
   "source": [
    "## 1. Setup\n",
    "\n",
    "##### To prepare your environment, you need to install some packages and enter credentials for the Watson services."
   ]
  },
  {
   "cell_type": "code",
   "execution_count": null,
   "metadata": {
    "scrolled": true
   },
   "outputs": [],
   "source": [
    "!pip install --upgrade \"ibm-watson>=4.4.1\""
   ]
  },
  {
   "cell_type": "markdown",
   "metadata": {},
   "source": [
    "### 1.1 Import Packages and Libraries"
   ]
  },
  {
   "cell_type": "code",
   "execution_count": null,
   "metadata": {},
   "outputs": [],
   "source": [
    "from ibm_watson import SpeechToTextV1\n",
    "from ibm_cloud_sdk_core.authenticators import IAMAuthenticator\n",
    "from os.path import join, dirname\n",
    "import json\n",
    "import os\n",
    "import time"
   ]
  },
  {
   "cell_type": "markdown",
   "metadata": {},
   "source": [
    "### 1.2 Add Service Credentials From IBM Cloud for Watson Services\n",
    "\n",
    "#### Edit the following cell to provide your credentials for Watson STT\n",
    "\n",
    "- Insert API key\n",
    "- Insert STT URL (example https://api.eu-de.speech-to-text.watson.cloud.ibm.com )\n",
    "- Run the cell.\n"
   ]
  },
  {
   "cell_type": "code",
   "execution_count": null,
   "metadata": {},
   "outputs": [],
   "source": [
    "url = \"<Insert URL from credentials>\"\n",
    "api_key = \"<Insert apikey from credentials>\"\n",
    "authenticator = IAMAuthenticator(api_key)\n",
    "speech_to_text = SpeechToTextV1(\n",
    "authenticator=authenticator\n",
    "    )\n",
    "speech_to_text.set_service_url(url)"
   ]
  },
  {
   "cell_type": "markdown",
   "metadata": {},
   "source": [
    "### 1.3 Creating a local path for your notebook"
   ]
  },
  {
   "cell_type": "code",
   "execution_count": null,
   "metadata": {},
   "outputs": [],
   "source": [
    "notebook_path = os.path.dirname(os.path.abspath(\"Acoustic Model Training.ipynb\"))"
   ]
  },
  {
   "cell_type": "markdown",
   "metadata": {},
   "source": [
    "## 2. Create a new acoustic model in Watson STT in Dutch\n",
    "\n",
    "Creates a new custom acoustic model for a specified base model. The custom acoustic model can be used only with the base model for which it is created. The model is owned by the instance of the service whose credentials are used to create it.\n",
    "\n",
    "You can create a maximum of 1024 custom acoustic models per owning credentials. The service returns an error if you attempt to create more than 1024 models. You do not lose any models, but you cannot create any more until your model count is below the limit.\n",
    "\n"
   ]
  },
  {
   "cell_type": "markdown",
   "metadata": {},
   "source": [
    "### 2.1 List the existing Dutch speech models available within the Watson STT service\n",
    "\n",
    "- Change language if required (example en-US)\n",
    "\n",
    "This link provides information about available languages https://cloud.ibm.com/docs/speech-to-text?topic=speech-to-text-models"
   ]
  },
  {
   "cell_type": "code",
   "execution_count": null,
   "metadata": {},
   "outputs": [],
   "source": [
    "acoustic_models = speech_to_text.list_acoustic_models(language='nl-NL').get_result()\n",
    "print(json.dumps(acoustic_models, indent=2))\n"
   ]
  },
  {
   "cell_type": "markdown",
   "metadata": {},
   "source": [
    "### 2.2 Create a Dutch speech acoustic model.\n",
    "\n",
    "- add a name for your model\n",
    "- add the language you require, (example nl-NL_NarrowbandModel)\n",
    "- provide a description to the model\n",
    "\n",
    "***The output is the acoustic model id, which you will require later in this notebook.***"
   ]
  },
  {
   "cell_type": "code",
   "execution_count": null,
   "metadata": {},
   "outputs": [],
   "source": [
    "# Create a Acoustic Model\n",
    "acoustic_model = speech_to_text.create_acoustic_model(\n",
    "    '<add name of the model>',\n",
    "    'nl-NL_NarrowbandModel',\n",
    "     description='<add description>').get_result()\n",
    "print(json.dumps(acoustic_model, indent=2))"
   ]
  },
  {
   "cell_type": "markdown",
   "metadata": {},
   "source": [
    "## 3. Add audio to the custom acoustic model\n",
    "\n",
    "The service accepts the same audio file formats for acoustic modeling that it accepts for speech recognition. It also accepts archive files that contain multiple audio files. Archive files are the preferred means of adding audio resources. You can repeat the method to add more audio or archive files to a custom model.\n",
    "\n",
    "More details can be found at the following link https://cloud.ibm.com/docs/speech-to-text?topic=speech-to-text-acoustic#createModel-acoustic\n",
    "\n",
    "- add the acoustic model id (customization_id) created in cell 2.2 to the cell below\n",
    "\n",
    "***The output describes the \"total minutes of audio\" within the custom acoustic model.***"
   ]
  },
  {
   "cell_type": "code",
   "execution_count": null,
   "metadata": {},
   "outputs": [],
   "source": [
    "custom_acoustic_narrowband_model_id = '<add customization_id>'\n",
    "audio_resources = speech_to_text.list_audio(custom_acoustic_narrowband_model_id).get_result()\n",
    "print(json.dumps(audio_resources, indent=2))"
   ]
  },
  {
   "cell_type": "markdown",
   "metadata": {},
   "source": [
    "### 3.1 Adding an audio resource\n",
    "\n",
    "You can add individual audio files or archive files that contain multiple audio files to a custom acoustic model. The recommended means of adding audio resources is by adding archive files. Creating and adding a single archive file is considerably more efficient than adding multiple audio files individually. You can also submit requests to add multiple different audio resources at the same time.\n",
    "\n",
    "More information about audio resources can be found in the following link https://cloud.ibm.com/docs/speech-to-text?topic=speech-to-text-audioResources#addAudioResource\n",
    "\n",
    "- add the file \n",
    "- create a name for the upload (example audio1)\n",
    "- change file type . example below is wav (Using .zip for bulk upload = application/zip)\n",
    "- allow_overwrite = false (if you dont want to overwrite the current audio file)"
   ]
  },
  {
   "cell_type": "code",
   "execution_count": null,
   "metadata": {},
   "outputs": [],
   "source": [
    "with open(join(dirname('.'), '.', '<add file>'),\n",
    "               'rb') as audio_file:\n",
    "    speech_to_text.add_audio(\n",
    "        custom_acoustic_narrowband_model_id,\n",
    "        'audio1',\n",
    "        audio_file,\n",
    "        content_type='audio/wav',\n",
    "        allow_overwrite= 'true'\n",
    "    )"
   ]
  },
  {
   "cell_type": "markdown",
   "metadata": {},
   "source": [
    "## 4. Training the acoustic model\n",
    "\n",
    "**** You may need to wait before running the cell - locked in the previous process ****\n",
    "\n",
    "\n",
    "Once you add audio resources to the custom model, you must train the model. Training prepares the custom acoustic model for use in speech recognition. Training can take a significant amount of time. The length of the training depends on the amount of audio data that the model contains.\n",
    "\n",
    "Total audio duration must be between 10 minutes and 12000 minutes "
   ]
  },
  {
   "cell_type": "code",
   "execution_count": null,
   "metadata": {},
   "outputs": [],
   "source": [
    "speech_to_text.train_acoustic_model(custom_acoustic_narrowband_model_id)"
   ]
  },
  {
   "cell_type": "markdown",
   "metadata": {},
   "source": [
    "### 4.1 Check the status of the training \n",
    "Depending on the audio size (or number of files), this can take a while to complete"
   ]
  },
  {
   "cell_type": "code",
   "execution_count": null,
   "metadata": {},
   "outputs": [],
   "source": [
    "# Get status of the language model - wait until it is 'available'\n",
    "acoustic_models = speech_to_text.list_acoustic_models(language='nl-NL').get_result()\n",
    "models = acoustic_models[\"customizations\"]\n",
    "\n",
    "statusNotAvailable = True\n",
    "while statusNotAvailable:    \n",
    "    #print(json.dumps(language_models, indent=2))\n",
    "    for model in models:\n",
    "        if model['customization_id'] == custom_acoustic_narrowband_model_id: \n",
    "            if model['status'] == 'available':\n",
    "                print(model['status'])\n",
    "                statusNotAvailable = False\n",
    "                break\n",
    "            else:\n",
    "               time.sleep(15)\n",
    "                print(model['status'])"
   ]
  },
  {
   "cell_type": "markdown",
   "metadata": {},
   "source": [
    "## 5. Using a custom acoustic model\n",
    "\n",
    "Once you create and train your custom acoustic model, you can use it in speech recognition requests. You use the acoustic_customization_id parameter to specify the custom acoustic model for a request.\n",
    "\n",
    "- Add the file name + type (example test.wav)\n",
    "- Add the content type - (example audio/wav)\n",
    "- Add the model type (example nl-NL_NarrowbandModel)"
   ]
  },
  {
   "cell_type": "code",
   "execution_count": null,
   "metadata": {},
   "outputs": [],
   "source": [
    "files = ['<add file>']\n",
    "for file in files:\n",
    "    with open(join(dirname('.'), './.', file),\n",
    "                   'rb') as audio_file:\n",
    "        speech_recognition_results = speech_to_text.recognize(\n",
    "            audio=audio_file,\n",
    "            content_type='audio/wav',\n",
    "            model='nl-NL_NarrowbandModel',\n",
    "            acoustic_customization_id=custom_acoustic_narrowband_model_id\n",
    "        ).get_result()\n",
    "    print(json.dumps(speech_recognition_results, indent=2))\n"
   ]
  },
  {
   "cell_type": "markdown",
   "metadata": {},
   "source": [
    "## 6.  Danger Zone - Delete Acoustic Model\n",
    "\n",
    "- add a specific 'customization_id\" in the cell below if required (see cell 2.1)"
   ]
  },
  {
   "cell_type": "code",
   "execution_count": null,
   "metadata": {},
   "outputs": [],
   "source": [
    "speech_to_text.delete_acoustic_model('<add customization_id>')"
   ]
  },
  {
   "cell_type": "code",
   "execution_count": null,
   "metadata": {},
   "outputs": [],
   "source": []
  }
 ],
 "metadata": {
  "kernelspec": {
   "display_name": "Python 3",
   "language": "python",
   "name": "python3"
  },
  "language_info": {
   "codemirror_mode": {
    "name": "ipython",
    "version": 3
   },
   "file_extension": ".py",
   "mimetype": "text/x-python",
   "name": "python",
   "nbconvert_exporter": "python",
   "pygments_lexer": "ipython3",
   "version": "3.7.1"
  }
 },
 "nbformat": 4,
 "nbformat_minor": 2
}
